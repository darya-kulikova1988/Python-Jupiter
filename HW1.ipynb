{
  "nbformat": 4,
  "nbformat_minor": 0,
  "metadata": {
    "colab": {
      "provenance": [],
      "authorship_tag": "ABX9TyPwCZNS4EZ40IOh8Bdw4eDr",
      "include_colab_link": true
    },
    "kernelspec": {
      "name": "python3",
      "display_name": "Python 3"
    },
    "language_info": {
      "name": "python"
    }
  },
  "cells": [
    {
      "cell_type": "markdown",
      "metadata": {
        "id": "view-in-github",
        "colab_type": "text"
      },
      "source": [
        "<a href=\"https://colab.research.google.com/github/darya-kulikova1988/Python-Jupiter/blob/main/HW1.ipynb\" target=\"_parent\"><img src=\"https://colab.research.google.com/assets/colab-badge.svg\" alt=\"Open In Colab\"/></a>"
      ]
    },
    {
      "cell_type": "markdown",
      "source": [
        "##Домашнее задание 1\n",
        "###Оформляйте ноутбук, используя эти советы:\n",
        "####🌟 Номер задачи - заголовок 2\n",
        "####🌟 Номер подзадачи - заголовок 3\n",
        "####🌟 Предоставленные наборы данных оформляйте, как код\n"
      ],
      "metadata": {
        "id": "_8R8oPidKeRZ"
      }
    },
    {
      "cell_type": "markdown",
      "source": [
        "##Домашнее задание 2\n",
        "###На складе лежат разные фрукты в разном количестве.\n",
        "Нужно написать функцию, которая на вход принимает любое\n",
        "количество названий фруктов и их количество, а возвращает\n",
        "общее количество фруктов на складе\n"
      ],
      "metadata": {
        "id": "jVzdOO0MOJk7"
      }
    },
    {
      "cell_type": "code",
      "source": [
        "def total_fruits (*args):\n",
        "  return sum(fruits.values())\n",
        "fruits={'Banana': 5, 'Mango': 7, 'Apple': 8}\n",
        "total_fruits(fruits)"
      ],
      "metadata": {
        "colab": {
          "base_uri": "https://localhost:8080/"
        },
        "id": "P1Ua7KZRO17p",
        "outputId": "34ea91da-3897-4895-9aa1-1733c0b31e38"
      },
      "execution_count": 5,
      "outputs": [
        {
          "output_type": "execute_result",
          "data": {
            "text/plain": [
              "20"
            ]
          },
          "metadata": {},
          "execution_count": 5
        }
      ]
    },
    {
      "cell_type": "markdown",
      "source": [
        "##Домашнее задание 3\n",
        "###Дан список с затратами на рекламу. \n",
        "Но в данных есть ошибки,некоторые затраты имеют отрицательную величину. Удалите\n",
        "такие значения из списка и посчитайте суммарные затраты. \n",
        "Используйте list comprehensions"
      ],
      "metadata": {
        "id": "R9DROU73V_4S"
      }
    },
    {
      "cell_type": "code",
      "source": [
        "costs=[100, 125, -90, 345, 655, -1, 0, 200]\n",
        "sum_costs_true=sum([i for i in costs if i>0])\n",
        "sum_costs_true"
      ],
      "metadata": {
        "colab": {
          "base_uri": "https://localhost:8080/"
        },
        "id": "Xmje7b_VWgAr",
        "outputId": "5736e88c-ed0e-4a68-c807-c13fa7635724"
      },
      "execution_count": 13,
      "outputs": [
        {
          "output_type": "execute_result",
          "data": {
            "text/plain": [
              "1425"
            ]
          },
          "metadata": {},
          "execution_count": 13
        }
      ]
    },
    {
      "cell_type": "markdown",
      "source": [
        "##Домашнее задание 4\n",
        "###Даны два списка.\n",
        "### 4.1 Найдите, какая выручка у компании в ноябре\n",
        "### 4.2 Найдите выручку компании в зависимости от месяца"
      ],
      "metadata": {
        "id": "OAu7IN-bYoTI"
      }
    },
    {
      "cell_type": "code",
      "source": [
        "dates=['2021-09-14', '2021-12-15', '2021-09-08', '2021-12-05', '2021-10-09', '2021-09-30', '2021-12-22', '2021-11-29', '2021-12-24', '2021-11-26', '2021-10-27', '2021-12-18', '2021-11-09', '2021-11-23', '2021-09-27', '2021-10-02', '2021-12-27', '2021-09-20', '2021-12-13', '2021-11-01', '2021-11-09', '2021-12-06', '2021-12-08', '2021-10-09', '2021-10-31', '2021-09-30', '2021-11-09', '2021-12-13', '2021-10-26', '2021-12-09']\n",
        "revenue=[1270, 8413, 9028, 3703, 5739, 4095, 295, 4944, 5723, 3701, 4471, 651, 7037, 4274, 6275, 4988, 6930, 2971, 6592, 2004, 2822, 519, 3406, 2732, 5015, 2008, 316, 6333, 5700, 2887]\n",
        "# print(len(date_orders))\n",
        "# print(len(sum_orders))\n",
        "orders={dates[i]:revenue[i] for i in range(len(dates))}\n",
        "#orders\n",
        "\n",
        "#Решение 4.1\n",
        "revenue_november={dates[i]:revenue[i] for i in range(len(dates)) if dates[i]>='2021-11-01' and dates[i]<'2021-11-30'}\n",
        "sum(revenue_november.values())"
      ],
      "metadata": {
        "colab": {
          "base_uri": "https://localhost:8080/"
        },
        "id": "AXFnb8IBY8db",
        "outputId": "29f25be6-e272-4c46-a125-978585d914d3"
      },
      "execution_count": 21,
      "outputs": [
        {
          "output_type": "execute_result",
          "data": {
            "text/plain": [
              "15239"
            ]
          },
          "metadata": {},
          "execution_count": 21
        }
      ]
    },
    {
      "cell_type": "code",
      "source": [
        "#Решение 4.2\n",
        "\n",
        "from datetime import datetime\n",
        "def revenue_by_month(dates: list, revenue: list) -> list:\n",
        "  revenue_by_month={}\n",
        "  for i in range(len(dates)):\n",
        "    date=datetime.strptime(dates[i],'%Y-%m-%d')\n",
        "    month=date.strftime('%B')\n",
        "    if month in revenue_by_month:\n",
        "      revenue_by_month[month]+=revenue[i]\n",
        "    else:\n",
        "      revenue_by_month[month]=revenue[i]\n",
        "  return revenue_by_month"
      ],
      "metadata": {
        "id": "I99x8J1zLkvJ"
      },
      "execution_count": 94,
      "outputs": []
    },
    {
      "cell_type": "code",
      "source": [
        "revenue_by_month(dates,revenue)"
      ],
      "metadata": {
        "colab": {
          "base_uri": "https://localhost:8080/"
        },
        "id": "Poa-_lNkUON5",
        "outputId": "51c96299-dbfe-43a5-f87e-cacc5366bb37"
      },
      "execution_count": 95,
      "outputs": [
        {
          "output_type": "execute_result",
          "data": {
            "text/plain": [
              "{'September': 25647, 'December': 45452, 'October': 28645, 'November': 25098}"
            ]
          },
          "metadata": {},
          "execution_count": 95
        }
      ]
    }
  ]
}