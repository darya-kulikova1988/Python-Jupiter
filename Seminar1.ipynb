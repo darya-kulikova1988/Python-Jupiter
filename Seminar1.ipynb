{
  "nbformat": 4,
  "nbformat_minor": 0,
  "metadata": {
    "colab": {
      "provenance": [],
      "authorship_tag": "ABX9TyMLaLD6ZbZowW5OLEYexXYZ",
      "include_colab_link": true
    },
    "kernelspec": {
      "name": "python3",
      "display_name": "Python 3"
    },
    "language_info": {
      "name": "python"
    }
  },
  "cells": [
    {
      "cell_type": "markdown",
      "metadata": {
        "id": "view-in-github",
        "colab_type": "text"
      },
      "source": [
        "<a href=\"https://colab.research.google.com/github/darya-kulikova1988/Python-Jupiter/blob/main/Seminar1.ipynb\" target=\"_parent\"><img src=\"https://colab.research.google.com/assets/colab-badge.svg\" alt=\"Open In Colab\"/></a>"
      ]
    },
    {
      "cell_type": "markdown",
      "source": [
        "#Задание 1\n",
        "##1.1 Соедините два словаря в один\n",
        "##1.2 Напишите функцию, которая на вход принимает два словаря и возвращает один объединенный словарь"
      ],
      "metadata": {
        "id": "ypzUdm4hDWRL"
      }
    },
    {
      "cell_type": "code",
      "source": [
        "dict1 = {'One': 1, 'Two': 2, 'Three': 3}\n",
        "dict2 = {'Four': 4, 'Five': 5, 'Six': 6}\n",
        "dict1|dict2"
      ],
      "metadata": {
        "colab": {
          "base_uri": "https://localhost:8080/"
        },
        "id": "bzxgs-AmD5je",
        "outputId": "cdad7e9e-96d6-41c7-b7aa-cf23ac242ca4"
      },
      "execution_count": 15,
      "outputs": [
        {
          "output_type": "execute_result",
          "data": {
            "text/plain": [
              "{'One': 1, 'Two': 2, 'Three': 3, 'Four': 4, 'Five': 5, 'Six': 6}"
            ]
          },
          "metadata": {},
          "execution_count": 15
        }
      ]
    },
    {
      "cell_type": "code",
      "source": [
        "dict3 = {'One': 1, 'Two': 2, 'Three': 3}\n",
        "dict4 = {'Four': 4, 'Five': 5, 'Six': 6}\n",
        "# dict3.update(dict4)"
      ],
      "metadata": {
        "id": "Ak0mkGzcElQT"
      },
      "execution_count": 27,
      "outputs": []
    },
    {
      "cell_type": "code",
      "source": [
        "dict3\n",
        "# dict3.keys()\n",
        "# dict3.values()\n"
      ],
      "metadata": {
        "colab": {
          "base_uri": "https://localhost:8080/"
        },
        "id": "Z6zP5rQ8FbHN",
        "outputId": "c6e540af-61d4-43e9-a861-176f24b33bb7"
      },
      "execution_count": 36,
      "outputs": [
        {
          "output_type": "execute_result",
          "data": {
            "text/plain": [
              "{'One': 1, 'Two': 2, 'Three': 3, 'Four': 4, 'Five': 5, 'Six': 6}"
            ]
          },
          "metadata": {},
          "execution_count": 36
        }
      ]
    },
    {
      "cell_type": "code",
      "source": [
        "def unite_dicts3(dict1:dict, dict2:dict) -> dict:\n",
        "    dict1.update(dict2)\n",
        "    return dict1\n",
        "unite_dicts3(dict3,dict4)"
      ],
      "metadata": {
        "colab": {
          "base_uri": "https://localhost:8080/"
        },
        "id": "JZT0I86YGxLu",
        "outputId": "926b7e92-8845-4592-cc0c-3d1064596798"
      },
      "execution_count": 39,
      "outputs": [
        {
          "output_type": "execute_result",
          "data": {
            "text/plain": [
              "{'One': 1, 'Two': 2, 'Three': 3, 'Four': 4, 'Five': 5, 'Six': 6}"
            ]
          },
          "metadata": {},
          "execution_count": 39
        }
      ]
    },
    {
      "cell_type": "code",
      "source": [
        "def unite_dicts1(dict1:dict, dict2:dict) -> dict:\n",
        "    return dict1|dict2\n",
        "unite_dicts1(dict1,dict2)"
      ],
      "metadata": {
        "colab": {
          "base_uri": "https://localhost:8080/"
        },
        "id": "ORZ9oq85H8Jx",
        "outputId": "a8227193-a4b6-42a5-c039-f871b0b6fcae"
      },
      "execution_count": 40,
      "outputs": [
        {
          "output_type": "execute_result",
          "data": {
            "text/plain": [
              "{'One': 1, 'Two': 2, 'Three': 3, 'Four': 4, 'Five': 5, 'Six': 6}"
            ]
          },
          "metadata": {},
          "execution_count": 40
        }
      ]
    },
    {
      "cell_type": "code",
      "source": [
        "dict3"
      ],
      "metadata": {
        "colab": {
          "base_uri": "https://localhost:8080/"
        },
        "id": "zqZu4AO-FDBQ",
        "outputId": "4d97e2a5-6f90-451b-acd8-c354ef4c1c3d"
      },
      "execution_count": 44,
      "outputs": [
        {
          "output_type": "execute_result",
          "data": {
            "text/plain": [
              "{'One': 1, 'Two': 2, 'Three': 3, 'Four': 4, 'Five': 5, 'Six': 6}"
            ]
          },
          "metadata": {},
          "execution_count": 44
        }
      ]
    },
    {
      "cell_type": "code",
      "source": [
        "!python --version"
      ],
      "metadata": {
        "colab": {
          "base_uri": "https://localhost:8080/"
        },
        "id": "dMULu_SYFPfd",
        "outputId": "daf8c592-1139-45c5-debc-4a1527e80fbe"
      },
      "execution_count": 18,
      "outputs": [
        {
          "output_type": "stream",
          "name": "stdout",
          "text": [
            "Python 3.10.11\n"
          ]
        }
      ]
    }
  ]
}