{
  "nbformat": 4,
  "nbformat_minor": 0,
  "metadata": {
    "colab": {
      "provenance": [],
      "name": "Seminar1.ipynb",
      "authorship_tag": "ABX9TyMtduvD7f/JsW/BRcnr1bcL",
      "include_colab_link": true
    },
    "kernelspec": {
      "name": "python3",
      "display_name": "Python 3"
    },
    "language_info": {
      "name": "python"
    }
  },
  "cells": [
    {
      "cell_type": "markdown",
      "metadata": {
        "id": "view-in-github",
        "colab_type": "text"
      },
      "source": [
        "<a href=\"https://colab.research.google.com/github/darya-kulikova1988/Python-Jupiter/blob/main/Seminar1.ipynb\" target=\"_parent\"><img src=\"https://colab.research.google.com/assets/colab-badge.svg\" alt=\"Open In Colab\"/></a>"
      ]
    },
    {
      "cell_type": "markdown",
      "source": [
        "#Задание 1\n",
        "##1.1 Соедините два словаря в один\n",
        "##1.2 Напишите функцию, которая на вход принимает два словаря и возвращает один объединенный словарь"
      ],
      "metadata": {
        "id": "ypzUdm4hDWRL"
      }
    },
    {
      "cell_type": "code",
      "source": [
        "dict1 = {'One': 1, 'Two': 2, 'Three': 3}\n",
        "dict2 = {'Four': 4, 'Five': 5, 'Six': 6}\n",
        "dict1|dict2"
      ],
      "metadata": {
        "colab": {
          "base_uri": "https://localhost:8080/"
        },
        "id": "bzxgs-AmD5je",
        "outputId": "91a483e7-a09f-4914-f31e-5bb064b46099"
      },
      "execution_count": 14,
      "outputs": [
        {
          "output_type": "execute_result",
          "data": {
            "text/plain": [
              "{'One': 1, 'Two': 2, 'Three': 3, 'Four': 4, 'Five': 5, 'Six': 6}"
            ]
          },
          "metadata": {},
          "execution_count": 14
        }
      ]
    },
    {
      "cell_type": "code",
      "source": [
        "dict3 = {'One': 1, 'Two': 2, 'Three': 3}\n",
        "dict4 = {'Four': 4, 'Five': 5, 'Six': 6}\n",
        "dict3.update(dict4)\n",
        "dict3\n",
        "# dict3.keys()\n",
        "# dict3.values()"
      ],
      "metadata": {
        "id": "Ak0mkGzcElQT",
        "outputId": "cbd31798-6da7-4d96-c36c-f1bd7e67e42f",
        "colab": {
          "base_uri": "https://localhost:8080/"
        }
      },
      "execution_count": 19,
      "outputs": [
        {
          "output_type": "execute_result",
          "data": {
            "text/plain": [
              "{'One': 1, 'Two': 2, 'Three': 3, 'Four': 4, 'Five': 5, 'Six': 6}"
            ]
          },
          "metadata": {},
          "execution_count": 19
        }
      ]
    },
    {
      "cell_type": "code",
      "source": [
        "def unite_dicts3(dict1:dict, dict2:dict) -> dict:\n",
        "    dict1.update(dict2)\n",
        "    return dict1\n",
        "unite_dicts3(dict3,dict4)"
      ],
      "metadata": {
        "colab": {
          "base_uri": "https://localhost:8080/"
        },
        "id": "JZT0I86YGxLu",
        "outputId": "8c1b6ae8-c623-4591-8cbd-12a9787a1ae3"
      },
      "execution_count": 20,
      "outputs": [
        {
          "output_type": "execute_result",
          "data": {
            "text/plain": [
              "{'One': 1, 'Two': 2, 'Three': 3, 'Four': 4, 'Five': 5, 'Six': 6}"
            ]
          },
          "metadata": {},
          "execution_count": 20
        }
      ]
    },
    {
      "cell_type": "code",
      "source": [
        "def unite_dicts1(dict1:dict, dict2:dict) -> dict:\n",
        "    a=dict1|dict2\n",
        "    return a\n",
        "unite_dicts1(dict1,dict2)"
      ],
      "metadata": {
        "colab": {
          "base_uri": "https://localhost:8080/"
        },
        "id": "ORZ9oq85H8Jx",
        "outputId": "b087e486-3214-4697-d9e6-0b9a163a5103"
      },
      "execution_count": 21,
      "outputs": [
        {
          "output_type": "execute_result",
          "data": {
            "text/plain": [
              "{'One': 1, 'Two': 2, 'Three': 3, 'Four': 4, 'Five': 5, 'Six': 6}"
            ]
          },
          "metadata": {},
          "execution_count": 21
        }
      ]
    },
    {
      "cell_type": "code",
      "source": [
        "!python --version"
      ],
      "metadata": {
        "id": "dMULu_SYFPfd"
      },
      "execution_count": null,
      "outputs": []
    },
    {
      "cell_type": "code",
      "source": [
        "type(set(dict1.keys()))"
      ],
      "metadata": {
        "id": "WIOGD9OC9PGB"
      },
      "execution_count": null,
      "outputs": []
    },
    {
      "cell_type": "markdown",
      "source": [
        "\n",
        "#Задание 2\n",
        "###Напишите функцию, которая из двух списков, делает один словарь, где элементы из первого списка - ключи, а элементы из второго списка - значения\n",
        "##2.1 Используя цикл for\n",
        "##2.2 Используя dict comprehensions\n",
        "\n"
      ],
      "metadata": {
        "id": "GgPyswphAEhw"
      }
    },
    {
      "cell_type": "code",
      "source": [
        "keys = ['One', 'Two', 'Three']\n",
        "values = [1, 2, 3]\n",
        "\n",
        "#вариант 1\n",
        "def make_dict(keys:list,values:list)->dict:\n",
        "  len_dict=len(keys)\n",
        "  my_dict={}\n",
        "  for i in range(len_dict):\n",
        "    my_dict[keys[i]]=values[i]\n",
        "    print(my_dict)\n",
        "  return my_dict\n",
        "\n",
        "make_dict(keys,values)"
      ],
      "metadata": {
        "id": "2hc_LY6JA65Q",
        "outputId": "e5e2c8fa-7346-4388-fb42-267f25387160",
        "colab": {
          "base_uri": "https://localhost:8080/"
        }
      },
      "execution_count": 23,
      "outputs": [
        {
          "output_type": "stream",
          "name": "stdout",
          "text": [
            "{'One': 1}\n",
            "{'One': 1, 'Two': 2}\n",
            "{'One': 1, 'Two': 2, 'Three': 3}\n"
          ]
        },
        {
          "output_type": "execute_result",
          "data": {
            "text/plain": [
              "{'One': 1, 'Two': 2, 'Three': 3}"
            ]
          },
          "metadata": {},
          "execution_count": 23
        }
      ]
    },
    {
      "cell_type": "code",
      "source": [
        "#вариант 2\n",
        "my_dict2={keys[i]:values[i] for i in range(len(keys))}\n",
        "my_dict2"
      ],
      "metadata": {
        "id": "1B4uE3MiC0nz",
        "outputId": "85179e0e-929b-47fc-96cf-9e11f125cfa7",
        "colab": {
          "base_uri": "https://localhost:8080/"
        }
      },
      "execution_count": 24,
      "outputs": [
        {
          "output_type": "execute_result",
          "data": {
            "text/plain": [
              "{'One': 1, 'Two': 2, 'Three': 3}"
            ]
          },
          "metadata": {},
          "execution_count": 24
        }
      ]
    },
    {
      "cell_type": "code",
      "source": [
        "#вариант 3(\n",
        "my_dict3={i:j for i,j in zip(keys,values)}\n",
        "print(my_dict3)"
      ],
      "metadata": {
        "id": "mLmMLmVxDOLw",
        "outputId": "4a9735ad-89b5-420c-b726-8cb0badc04b9",
        "colab": {
          "base_uri": "https://localhost:8080/"
        }
      },
      "execution_count": 26,
      "outputs": [
        {
          "output_type": "stream",
          "name": "stdout",
          "text": [
            "{'One': 1, 'Two': 2, 'Three': 3}\n"
          ]
        }
      ]
    },
    {
      "cell_type": "markdown",
      "source": [
        "#Задание 3.\n",
        "###Извлеките только два ключа name и age из представленного словаря\n",
        "## 3.1 Напишите функцию с циклом for\n",
        "## 3.2 Используя dict comprehensions\n"
      ],
      "metadata": {
        "id": "rVoYrFSqEEmh"
      }
    },
    {
      "cell_type": "code",
      "source": [
        "client_dict = {\n",
        "\"name\": \"John\",\n",
        "\"age\": 25,\n",
        "\"salary\": 5000,\n",
        "\"city\": \"Moscow\"}\n",
        "\n",
        "keys=[\"name\",\"age\"]"
      ],
      "metadata": {
        "id": "-tx4kMV5EXQn"
      },
      "execution_count": null,
      "outputs": []
    },
    {
      "cell_type": "code",
      "source": [
        "#Вариант 1\n",
        "def get_keys(dictionary:dict,keys:list) -> dict:\n",
        "  keys_dict={}\n",
        "  for key in keys:\n",
        "    keys_dict[key]=dictionary[key]\n",
        "  return keys_dict\n",
        "get_keys(client_dict,keys=[\"name\",\"age\"])"
      ],
      "metadata": {
        "id": "gB3LyhVTFT8G",
        "outputId": "fdcb270a-987f-42bd-cafd-680fa4393be3",
        "colab": {
          "base_uri": "https://localhost:8080/"
        }
      },
      "execution_count": 29,
      "outputs": [
        {
          "output_type": "execute_result",
          "data": {
            "text/plain": [
              "{'name': 'John', 'age': 25}"
            ]
          },
          "metadata": {},
          "execution_count": 29
        }
      ]
    },
    {
      "cell_type": "code",
      "source": [
        "#Вариант2\n",
        "def get_keys2(dictionary:dict,keys:list=[\"name\",\"age\"]):\n",
        "  print(keys)\n",
        "  return{key:dictionary[key] for key in keys}"
      ],
      "metadata": {
        "id": "730I5RpEF8xH"
      },
      "execution_count": 34,
      "outputs": []
    },
    {
      "cell_type": "code",
      "source": [
        "get_keys2(client_dict)"
      ],
      "metadata": {
        "id": "Ibl97xSoG8Ds",
        "outputId": "8d02dc33-44d8-4a2c-c3bd-ea1616e1476b",
        "colab": {
          "base_uri": "https://localhost:8080/"
        }
      },
      "execution_count": 35,
      "outputs": [
        {
          "output_type": "stream",
          "name": "stdout",
          "text": [
            "['name', 'age']\n"
          ]
        },
        {
          "output_type": "execute_result",
          "data": {
            "text/plain": [
              "{'name': 'John', 'age': 25}"
            ]
          },
          "metadata": {},
          "execution_count": 35
        }
      ]
    },
    {
      "cell_type": "markdown",
      "source": [
        "#Задание 4\n",
        "## 4.1 Сгенерируйте случайные целые числа от 0 до 100 в количестве 5 штук с помощью модуля random\n",
        "● Зафиксируйте псевдогенерацию, чтобы\n",
        "сгенерированные значения всегда были одинаковые\n",
        "● Используйте list comprehensions"
      ],
      "metadata": {
        "id": "mqxra75XH60-"
      }
    },
    {
      "cell_type": "code",
      "source": [
        "import random\n",
        "#random.seed(49)  #фиксация псевдогенерации\n",
        "[random.randint(0,100) for i in range(5)]\n",
        "#random.random()"
      ],
      "metadata": {
        "id": "qhmowAtPIJAI",
        "outputId": "d8ee5dcf-8cdc-4e6b-e1d2-7144e8100165",
        "colab": {
          "base_uri": "https://localhost:8080/"
        }
      },
      "execution_count": 41,
      "outputs": [
        {
          "output_type": "execute_result",
          "data": {
            "text/plain": [
              "[28, 77, 36, 73, 47]"
            ]
          },
          "metadata": {},
          "execution_count": 41
        }
      ]
    },
    {
      "cell_type": "markdown",
      "source": [
        "#4.2* Напишите генератор\n",
        "🌟 Генератор на вход принимает список с данными о клиенте (данные\n",
        "из пункта 4.1)\n",
        "🌟 Внутри генератора реализуйте обход по списку с данными\n",
        "\n",
        "На каждой итерации генератор будет возвращать кортеж из двух\n",
        "элементов:\n",
        "1. данные по клиенту (в зависимости от итерации, на 0 итерации\n",
        "вернется 0 элемент, на 1 итерации вернется 1 элемент и тд)\n",
        "2. целочисленное значение, которое показывает, сколько секунд\n",
        "прошло с предыдущей итерации\n",
        "Примечание: секунды, которые возвращаются должны показывать время\n",
        "не с начала запуска генератора, а именно то время, которое прошло с\n",
        "предыдущей итерации. А значит время на первой итерации должно\n",
        "равняться 0.\n",
        "🌟 Используйте функцию time из модуля time для подсчета времени.\n",
        "🌟 Чтобы проверить работу таймера, запустите проход по\n",
        "генератору в цикле с time.sleep(2)"
      ],
      "metadata": {
        "id": "FRjlvSr2JCq6"
      }
    },
    {
      "cell_type": "code",
      "source": [
        "import time\n",
        "import random\n",
        "from random import randint, seed"
      ],
      "metadata": {
        "id": "9oR7FH8cJIex"
      },
      "execution_count": 43,
      "outputs": []
    },
    {
      "cell_type": "code",
      "source": [
        "seed(9)\n",
        "data=[randint(0,100) for i in range(5)]\n",
        "data"
      ],
      "metadata": {
        "id": "QtJoIrb8KV28",
        "outputId": "964f23f2-5bae-4eea-83ff-7dc01ad06cc9",
        "colab": {
          "base_uri": "https://localhost:8080/"
        }
      },
      "execution_count": 48,
      "outputs": [
        {
          "output_type": "execute_result",
          "data": {
            "text/plain": [
              "[59, 78, 47, 34, 17]"
            ]
          },
          "metadata": {},
          "execution_count": 48
        }
      ]
    },
    {
      "cell_type": "code",
      "source": [
        "def generator(data:list):\n",
        "  last_time=None\n",
        "  for item in data:\n",
        "    current_time=time.time()\n",
        "    if last_time:\n",
        "      delta=current_time-last_time\n",
        "    else:\n",
        "      delta=00\n",
        "    last_time=time.time()\n",
        "    yield(delta,item)"
      ],
      "metadata": {
        "id": "ACI_GKx5KgiN"
      },
      "execution_count": 45,
      "outputs": []
    },
    {
      "cell_type": "code",
      "source": [
        "for obj in generator(data):\n",
        "  print(obj)\n",
        "  time.sleep(2)\n"
      ],
      "metadata": {
        "id": "NY5LgqrzLKow",
        "outputId": "d2a401b6-2d42-4c1a-a596-ce5ad3a32b7b",
        "colab": {
          "base_uri": "https://localhost:8080/"
        }
      },
      "execution_count": 47,
      "outputs": [
        {
          "output_type": "stream",
          "name": "stdout",
          "text": [
            "(0, 59)\n",
            "(2.0038764476776123, 78)\n",
            "(2.0019326210021973, 47)\n",
            "(2.0024712085723877, 34)\n",
            "(2.0023250579833984, 17)\n"
          ]
        }
      ]
    }
  ]
}